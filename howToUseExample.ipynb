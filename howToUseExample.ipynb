{
 "cells": [
  {
   "cell_type": "code",
   "execution_count": 1,
   "metadata": {},
   "outputs": [],
   "source": [
    "import torch\n",
    "import torchvision\n",
    "import torch.nn  as nn\n",
    "import torch.optim as optim\n",
    "import torch.nn.functional as F\n",
    "import torchvision.transforms as transforms\n",
    "from torchvision import models\n",
    "import os\n",
    "import glob\n",
    "import shutil\n",
    "import random\n",
    "import pandas as pd\n",
    "from PIL import Image\n",
    "import matplotlib.pyplot as plt"
   ]
  },
  {
   "cell_type": "code",
   "execution_count": 3,
   "metadata": {},
   "outputs": [
    {
     "data": {
      "text/plain": [
       "<module 'mytorch.myResNet50' from '/Users/water_mbp/workspace/Labo/floc/debuet/mytorch/myResNet50.py'>"
      ]
     },
     "execution_count": 3,
     "metadata": {},
     "output_type": "execute_result"
    }
   ],
   "source": [
    "from mytorch import utils\n",
    "from mytorch import myResNet50\n",
    "import importlib\n",
    "importlib.reload(utils)\n",
    "importlib.reload(myResNet50)"
   ]
  },
  {
   "cell_type": "code",
   "execution_count": null,
   "metadata": {},
   "outputs": [],
   "source": [
    "train_csv = pd.read_csv(\"./csv/train.csv\")\n",
    "test_csv = pd.read_csv(\"./csv/test.csv\")\n",
    "\n",
    "data_transforms = transforms.Compose([\n",
    "    transforms.ToTensor(),\n",
    "])"
   ]
  },
  {
   "cell_type": "code",
   "execution_count": null,
   "metadata": {},
   "outputs": [],
   "source": [
    "class CustomDataset(torch.utils.data.Dataset):\n",
    "    classes = ['1', '2', '3']\n",
    "\n",
    "    def __init__(self, root, transform=None):\n",
    "        '''\n",
    "        root: 画像が保存されているパス\n",
    "        transform: transform\n",
    "        '''\n",
    "        self.transform = transform\n",
    "        self.images = []\n",
    "        self.labels = []\n",
    "        root_path = root\n",
    "        files = glob.glob(os.path.join(root_path, '0/*.jpg'))\n",
    "        for path in files:\n",
    "            self.images.append(path)\n",
    "            self.labels.append(0)\n",
    "        files = glob.glob(os.path.join(root_path, '1/*.jpg'))\n",
    "        for path in files:\n",
    "            self.images.append(path)\n",
    "            self.labels.append(1)\n",
    "        files = glob.glob(os.path.join(root_path, '2/*.jpg'))\n",
    "        for path in files:\n",
    "            self.images.append(path)\n",
    "            self.labels.append(2)\n",
    "    \n",
    "    def __getitem__(self, index):\n",
    "        image = self.images[index]\n",
    "        label = self.labels[index]\n",
    "        with open(image, 'rb') as f:\n",
    "            image = Image.open(f)\n",
    "            image = image.convert('RGB')\n",
    "        if self.transform is not None:\n",
    "            image = self.transform(image)\n",
    "        return image, label\n",
    "    \n",
    "    def __len__(self):\n",
    "        return len(self.images)"
   ]
  },
  {
   "cell_type": "code",
   "execution_count": null,
   "metadata": {},
   "outputs": [],
   "source": [
    "train_root = \"./dataset/train_dataset/\"\n",
    "vali_root = \"./dataset/vali_dataset/\"\n",
    "test_root = \"./dataset/test_dataset/\"\n",
    "\n",
    "custom_train_dataset = CustomDataset(train_root, data_transforms)\n",
    "custom_vali_dataset = CustomDataset(vali_root, data_transforms)\n",
    "custom_test_dataset = CustomDataset(test_root, data_transforms)\n",
    "\n",
    "train_loader = torch.utils.data.DataLoader(\n",
    "    dataset=custom_train_dataset,\n",
    "    batch_size=32,\n",
    "    shuffle=True\n",
    ")\n",
    "vali_loader = torch.utils.data.DataLoader(\n",
    "    dataset=custom_vali_dataset,\n",
    "    batch_size=32,\n",
    "    shuffle=False\n",
    ")\n",
    "test_loader = torch.utils.data.DataLoader(\n",
    "    dataset=custom_test_dataset,\n",
    "    batch_size=32,\n",
    "    shuffle=False\n",
    ")"
   ]
  },
  {
   "cell_type": "code",
   "execution_count": null,
   "metadata": {},
   "outputs": [],
   "source": [
    "device = 'cuda' if torch.cuda.is_available() else 'cpu'\n",
    "net = myResNet50.MyResNet(myResNet50.MyBottleneck, [3, 4, 6, 3])\n",
    "criterion = nn.CrossEntropyLoss()\n",
    "optimizer = optim.SGD(net.parameters(), lr=0.1, momentum=0.9, weight_decay=5e-4)\n",
    "\n",
    "num_epoch = 2\n",
    "\n",
    "train_loss_list = []\n",
    "train_acc_list = []\n",
    "val_loss_list = []\n",
    "val_acc_list = []\n",
    "\n",
    "for epoch in range(num_epoch):\n",
    "    #initializer\n",
    "    train_loss = 0\n",
    "    train_acc = 0\n",
    "    val_loss = 0\n",
    "    val_acc = 0\n",
    "    #train\n",
    "    net.train()\n",
    "    # mini_bach毎に読み込む\n",
    "    for i, (images, labels) in enumerate(train_loader):\n",
    "        images, labels = images.to(device), labels.to(device)\n",
    "        optimizer.zero_grad()\n",
    "        outputs = net(images)\n",
    "        loss = criterion(outputs, labels)\n",
    "        train_loss += loss.item()\n",
    "        train_acc += (outputs.max(1)[1] == labels).sum().item()\n",
    "        loss.backward()\n",
    "        optimizer.step()\n",
    "    avg_train_loss = train_loss / len(train_loader.dataset)\n",
    "    avg_train_acc = train_acc / len(train_loader.dataset)\n",
    "    #validation\n",
    "    net.eval()\n",
    "    with torch.no_grad():\n",
    "        for images, labels in enumerate(vali_loader):\n",
    "            images, labels = images.to(device), labels.to(device)\n",
    "            outputs = net(images)\n",
    "            loss = criterion(outputs, labels)\n",
    "            val_loss += loss.item()\n",
    "            val_acc += (outputs.max(1)[1] == labels).sum().item()\n",
    "        avg_val_loss = val_loss / len(vali_loader.dataset)\n",
    "        avg_val_acc = val_acc / len(vali_loader.dataset)\n",
    "    print('Epoch [{}/{}], Loss: {loss:.4f}, val_loss: {val_loss:.4f}, val_acc: {val_acc:.4f}'.format(\n",
    "        epoch+1, \n",
    "        num_epoch, \n",
    "        loss=avg_train_loss, \n",
    "        val_loss=avg_val_loss,\n",
    "        val_acc=avg_val_acc\n",
    "        ))\n",
    "    train_loss_list.append(avg_train_loss)\n",
    "    train_acc_list.append(avg_train_acc)\n",
    "    val_loss_list.append(avg_val_loss)\n",
    "    val_acc_list.append(avg_val_acc)"
   ]
  },
  {
   "cell_type": "code",
   "execution_count": null,
   "metadata": {},
   "outputs": [],
   "source": [
    "utils.utils.plot_epoch_to_loss_acc(num_epoch, train_loss_list, val_loss_list, train_acc_list, val_acc_list)"
   ]
  },
  {
   "cell_type": "code",
   "execution_count": null,
   "metadata": {},
   "outputs": [],
   "source": [
    "outputs = utils.utils.test(net, test_loader, \"./outcome/heatmap.png\")\n",
    "utils.utils.split_correct_image_csv(\n",
    "    test_csv, \n",
    "    \"./outcome/outcome.csv\", \n",
    "    \"./outcome/correctImages/\", \n",
    "    \"./outcome/incorrectImages/\", \n",
    "    custom_test_dataset, outputs\n",
    "    )"
   ]
  }
 ],
 "metadata": {
  "kernelspec": {
   "display_name": "Python 3.6.8 64-bit ('3.6.8')",
   "language": "python",
   "name": "python3"
  },
  "language_info": {
   "codemirror_mode": {
    "name": "ipython",
    "version": 3
   },
   "file_extension": ".py",
   "mimetype": "text/x-python",
   "name": "python",
   "nbconvert_exporter": "python",
   "pygments_lexer": "ipython3",
   "version": "3.6.8"
  },
  "orig_nbformat": 4,
  "vscode": {
   "interpreter": {
    "hash": "70c8b2be1be7f95516685a3aab88f52150aa6757b644af8cbdbd36a090e1cf81"
   }
  }
 },
 "nbformat": 4,
 "nbformat_minor": 2
}
